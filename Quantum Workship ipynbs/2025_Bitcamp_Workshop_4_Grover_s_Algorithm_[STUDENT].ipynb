{
  "nbformat": 4,
  "nbformat_minor": 0,
  "metadata": {
    "colab": {
      "provenance": [],
      "toc_visible": true,
      "collapsed_sections": [
        "ab55dvbqUUiM",
        "yhKNjzjncmGi",
        "5cSTrh_Fc7Gj",
        "gmyYQtXpdDkC",
        "AMMPoFhAdDqa",
        "ld5r6MNcdDwc",
        "cWg3G58_dVU0",
        "xYWFgdt2dbyW",
        "DevSCs2YhFjU",
        "jPGHKDOjWjx0",
        "7yFGS-yVi2Ry"
      ]
    },
    "kernelspec": {
      "name": "python3",
      "display_name": "Python 3"
    },
    "language_info": {
      "name": "python"
    }
  },
  "cells": [
    {
      "cell_type": "markdown",
      "source": [
        "# **Lab 4: Grover's Algorithm**\n",
        "---\n",
        "\n",
        "### **Description**\n",
        "In this notebook, we will apply our cirq skills to implement Grover's search algorithm. **NOTE**: We really do not expect you to understand every single detail of this implementation (or any other) after just learning about this algorithm (and all of quantum computing) this weekend. Instead, we encourage you to get what you can out of this implementation and be reassured that the main focus is on *using* this algorithm.\n",
        "\n",
        "<br>\n",
        "\n",
        "### **Structure**\n",
        "**Part 1**: [Implementing Grover's Algorithm with Cirq](#p1)\n",
        "\n",
        "**Part 2**: [Challenge Problem](#p2)\n",
        "\n",
        "\n",
        "<br>\n",
        "\n",
        "### **Resources**\n",
        "* [Cirq Basics Cheat Sheet](https://docs.google.com/document/d/1Ir1qtXS2-C_tGThk00P1fZfZjoC8oet4N9Rtkw7LgVY/edit?usp=drive_link)\n",
        "\n",
        "\n",
        "<br>\n",
        "\n",
        "**Before starting, run the code below to import all necessary functions and libraries.**\n"
      ],
      "metadata": {
        "id": "mbZXQ3rA3NwL"
      }
    },
    {
      "cell_type": "code",
      "source": [
        "# Make sure to clear the kernel if you encounter an import error (Runtime -> Restart Session)\n",
        "import warnings\n",
        "warnings.filterwarnings(\"ignore\")\n",
        "\n",
        "\n",
        "try:\n",
        "    import cirq\n",
        "except ImportError:\n",
        "    print(\"installing cirq...\")\n",
        "    !pip install cirq --quiet\n",
        "    import cirq\n",
        "    print(\"installed cirq.\")\n",
        "\n",
        "import cirq_web\n",
        "import cirq_web.bloch_sphere as bloch_sphere\n",
        "import matplotlib.pyplot as plt\n",
        "\n",
        "def binary_labels(num_qubits):\n",
        "    return [bin(x)[2:].zfill(num_qubits) for x in range(2 ** num_qubits)]\n",
        "\n",
        "print(\"Libraries Imported Successfully!\")"
      ],
      "metadata": {
        "colab": {
          "base_uri": "https://localhost:8080/"
        },
        "id": "REAA4k2yTCt8",
        "outputId": "c9feab2e-7ce6-455b-9ecd-d8a20f82835a"
      },
      "execution_count": null,
      "outputs": [
        {
          "output_type": "stream",
          "name": "stdout",
          "text": [
            "Libraries Imported Successfully!\n"
          ]
        }
      ]
    },
    {
      "cell_type": "markdown",
      "source": [
        "<a name=\"p1\"></a>\n",
        "\n",
        "---\n",
        "## **Part 1: Implementing Grover's Algorithm with Cirq**\n",
        "---\n",
        "\n",
        "In this section, we will see one way to implement Grover's Algorithm with Cirq. While there are many ways to do this, some of our implementation choices include:\n",
        "\n",
        "* Searching for a bitstring out of all possible bitstrings of a given length (e.g. '101' out of '000', '001', '010', ... , '111').\n",
        "\n",
        "* Using an extra, \"ancilla\", qubit that is purely for storing the phase difference between the state(s) we're looking for and the ones we're not."
      ],
      "metadata": {
        "id": "ab55dvbqUUiM"
      }
    },
    {
      "cell_type": "markdown",
      "source": [
        "#### **Problem #1.1**\n",
        "\n",
        "To start, let's define each part of the Grover Algorithm circuit. We do not have time to dive into every detail of this right now, but nonetheless wanted to provide a quick walkthrough of how to construct each part."
      ],
      "metadata": {
        "id": "yhKNjzjncmGi"
      }
    },
    {
      "cell_type": "markdown",
      "source": [
        "##### **Step #1: Prepare equal superposition.**\n",
        "\n",
        "The loop should hopefully be relatively straightforward; however, it's worth pointing out that we're preparing the ancilla qubit differently. In particular, we will set it to the 1 state because we will then use another gate later on, the Z gate, that flips the phase of any 1 states compared to 0 states."
      ],
      "metadata": {
        "id": "5cSTrh_Fc7Gj"
      }
    },
    {
      "cell_type": "code",
      "source": [
        "def prepare(qubits, ancilla_qubit, circuit):\n",
        "\n",
        "  for qubit in qubits:\n",
        "    circuit.append(cirq.H(qubit))\n",
        "\n",
        "  circuit.append(cirq.X(ancilla_qubit))"
      ],
      "metadata": {
        "id": "xol7xSFBdQX_"
      },
      "execution_count": null,
      "outputs": []
    },
    {
      "cell_type": "markdown",
      "source": [
        "##### **Step #2: Mark states that match criteria.**\n",
        "\n",
        "The general flow of this code is:\n",
        "1. Modify the qubits so that the target bitstring is temporarily all 1s (e.g. for 3 qubits: 111).\n",
        "\n",
        "2. Flip the phase of the ancilla qubit only if the qubits are all 1s.\n",
        "\n",
        "3. Undo the first part so that we don't lose the original target bitstring information.\n",
        "\n",
        "<br>\n",
        "\n",
        "**NOTE**: This is the only part of Grover's algorithm that needs to know anything about the actual problem we're solving/item we're searching for. Constructing a *good* oracle is a difficult task, particularly in the more realistic case that we know the criteria for a solution but do not know the solutions themselves (for computer science folks, this can be thought of building our oracle as a verifier instead of a solver)."
      ],
      "metadata": {
        "id": "gmyYQtXpdDkC"
      }
    },
    {
      "cell_type": "code",
      "source": [
        "def oracle(qubits, ancilla_qubit, circuit, target_bitstring):\n",
        "\n",
        "  # Create a gate that will flip the phase of the ancilla bit (with a Z gate)\n",
        "  # but only if the other qubits are all 1\n",
        "  phase_flip = cirq.ControlledGate(sub_gate = cirq.Z, num_controls = num_qubits)\n",
        "\n",
        "  # Flip qubits so the target_bitstring\n",
        "  # is all 1s, allowing this to control\n",
        "  # a phase flip\n",
        "  for i, bit in enumerate(target_bitstring):\n",
        "      if bit == '0':\n",
        "          circuit.append(cirq.X(qubits[i]))\n",
        "\n",
        "  # Apply a Z gate to the ancilla qubit if all conditions are met\n",
        "  # Thus marking the target_bitstring with a phase difference\n",
        "  circuit.append(phase_flip(*qubits, ancilla_qubit))\n",
        "\n",
        "  # Flip the qubits back where necessary\n",
        "  # Now that the target_bitstring has been marked\n",
        "  for i, bit in enumerate(target_bitstring):\n",
        "      if bit == '0':\n",
        "          circuit.append(cirq.X(qubits[i]))"
      ],
      "metadata": {
        "id": "lqVtujPndSfo"
      },
      "execution_count": null,
      "outputs": []
    },
    {
      "cell_type": "markdown",
      "source": [
        "##### **Step #3: Constructively interfere marked states, destructively interfere the rest.**\n",
        "\n",
        "The diffusion operator is a hallmark of Grover's algorithm that doesn't care about the problem being solved at all! All it does is amplify the likelihood of measuring any states with a negative phase and decrease the likelihood of the rest.\n",
        "\n",
        "<br>\n",
        "\n",
        "If you are curious about more details, this [stackexchange](https://quantumcomputing.stackexchange.com/questions/13313/how-can-you-decompose-grovers-diffusion-operator-into-gates) summarizes it in gates concisely (albeit in more technical detail than we're able to cover this weekend)."
      ],
      "metadata": {
        "id": "AMMPoFhAdDqa"
      }
    },
    {
      "cell_type": "code",
      "source": [
        "def diffusion_operator(qubits, ancilla_qubit, circuit):\n",
        "\n",
        "  phase_flip = cirq.ControlledGate(sub_gate = cirq.Z, num_controls = num_qubits)\n",
        "\n",
        "  for qubit in qubits:\n",
        "    circuit.append(cirq.H(qubit))\n",
        "    circuit.append(cirq.X(qubit))\n",
        "\n",
        "  circuit.append(phase_flip(*qubits, ancilla_qubit))\n",
        "\n",
        "  for qubit in qubits:\n",
        "    circuit.append(cirq.X(qubit))\n",
        "    circuit.append(cirq.H(qubit))"
      ],
      "metadata": {
        "id": "bdFhQIUedTzB"
      },
      "execution_count": null,
      "outputs": []
    },
    {
      "cell_type": "markdown",
      "source": [
        "##### **Step #4: Measure *possible* solutions.**\n",
        "\n",
        "This should be relatively straightforward to interpret. The main thing to notice is that we don't measure the ancilla qubit. Although we could, there is no longer any meaningful information stored in it."
      ],
      "metadata": {
        "id": "ld5r6MNcdDwc"
      }
    },
    {
      "cell_type": "code",
      "source": [
        "def measure_solutions(qubits, circuit):\n",
        "\n",
        "  circuit.append(cirq.measure(qubits, key = 'solutions'))"
      ],
      "metadata": {
        "id": "5R2QB22CdZGF"
      },
      "execution_count": null,
      "outputs": []
    },
    {
      "cell_type": "markdown",
      "source": [
        "##### **Putting it all together.**\n",
        "\n",
        "Lastly, we can see the general flow of Grover's Algorithm by combining the parts from above."
      ],
      "metadata": {
        "id": "cWg3G58_dVU0"
      }
    },
    {
      "cell_type": "code",
      "source": [
        "def grovers_algorithm_circuit(num_qubits, target_bitstring, num_iterations):\n",
        "\n",
        "  qubits = [cirq.NamedQubit('q' + str(i)) for i in range(num_qubits)]\n",
        "  circuit = cirq.Circuit()\n",
        "\n",
        "  ancilla_qubit = cirq.NamedQubit('ancilla')\n",
        "\n",
        "  # Step #1\n",
        "  prepare(qubits, ancilla_qubit, circuit)\n",
        "\n",
        "  # Steps #2 - 3 repeated\n",
        "  for iteration in range(num_iterations):\n",
        "    oracle(qubits, ancilla_qubit, circuit, target_bitstring)\n",
        "    diffusion_operator(qubits, ancilla_qubit, circuit)\n",
        "\n",
        "  # Step #4\n",
        "  measure_solutions(qubits, circuit)\n",
        "\n",
        "\n",
        "  return circuit"
      ],
      "metadata": {
        "id": "9liuwK8aW6OC"
      },
      "execution_count": null,
      "outputs": []
    },
    {
      "cell_type": "markdown",
      "source": [
        "#### **Problem #1.2**\n",
        "\n",
        "Now, let's use our Grover's algorithm circuit to search for a specific bitstring, '101', with 1 iteration of the oracle and diffusion operator before measuring."
      ],
      "metadata": {
        "id": "xYWFgdt2dbyW"
      }
    },
    {
      "cell_type": "code",
      "source": [
        "# Parameters\n",
        "target_bitstring = '101'\n",
        "num_qubits = len(target_bitstring)\n",
        "num_iterations = 1\n",
        "\n",
        "# Generate the circuit for Grover's algorithm\n",
        "circuit = grovers_algorithm_circuit(num_qubits, target_bitstring, num_iterations)\n",
        "\n",
        "# Display the circuit\n",
        "print(\"Circuit with \" + str(num_iterations) + \" iterations:\")\n",
        "print(circuit)\n",
        "\n",
        "# Simulate the circuit\n",
        "simulator = cirq.Simulator()\n",
        "result = simulator.run(circuit, repetitions=1000)\n",
        "\n",
        "# Plot results\n",
        "hist = cirq.plot_state_histogram(result, plt.subplot(), title = 'Qubit States', xlabel = 'States', ylabel = 'Occurrences', tick_label = binary_labels(num_qubits))\n",
        "plt.show()"
      ],
      "metadata": {
        "colab": {
          "base_uri": "https://localhost:8080/",
          "height": 611
        },
        "id": "nfkB0oRvaiMq",
        "outputId": "de9aaa22-7317-462e-9f54-8b5bb1c1cd72"
      },
      "execution_count": null,
      "outputs": [
        {
          "output_type": "stream",
          "name": "stdout",
          "text": [
            "Circuit with 1 iterations:\n",
            "ancilla: ───X───────Z───────────────Z────────────────────────────\n",
            "                    │               │\n",
            "q0: ────────H───────@───H───X───────@───X───H───M('solutions')───\n",
            "                    │               │           │\n",
            "q1: ────────H───X───@───X───H───X───@───X───H───M────────────────\n",
            "                    │               │           │\n",
            "q2: ────────H───────@───H───X───────@───X───H───M────────────────\n"
          ]
        },
        {
          "output_type": "display_data",
          "data": {
            "text/plain": [
              "<Figure size 640x480 with 1 Axes>"
            ],
            "image/png": "[encoded data removed]"
          },
          "metadata": {}
        }
      ]
    },
    {
      "cell_type": "markdown",
      "source": [
        "#### **Reflection**\n",
        "\n",
        "* Did this work? How can we know?\n",
        "* Can you identify each step in the circuit?"
      ],
      "metadata": {
        "id": "2DAIOVnUhTxE"
      }
    },
    {
      "cell_type": "markdown",
      "source": [
        "#### **Problem #1.3**\n",
        "\n",
        "Now, let's explore the role of the number of iterations by seeing the results after running with iterations from 0 to the number of possible solutions. In general, finding the optimal number of iterations is a mix of art and science; however, if we start needing close to or more than the number of possible solutions to find the right answer then we are worse than the classical brute force search."
      ],
      "metadata": {
        "id": "DevSCs2YhFjU"
      }
    },
    {
      "cell_type": "code",
      "source": [
        "for num_iterations in range(2**num_qubits):\n",
        "  # COMPLETE THIS CODE"
      ],
      "metadata": {
        "id": "x1_IQ_UchmS6"
      },
      "execution_count": null,
      "outputs": []
    },
    {
      "cell_type": "markdown",
      "source": [
        "#### **Reflection**\n",
        "\n",
        "* The theoretical optimal number of iterations for finding one of $m$ correct items out of $n$ possibilities is $O(\\sqrt{\\frac{n}{m}})$. How did the results here compare?\n",
        "\n",
        "* In the classical case, the more times you look for an item in the list, the more likely you are to find the right answer. Does this apply in the quantum case? In other words, does increasing the number of iterations always improve the probability of finding the correct answer?"
      ],
      "metadata": {
        "id": "q92oXvAhiI8J"
      }
    },
    {
      "cell_type": "markdown",
      "source": [
        "<a name=\"p2\"></a>\n",
        "\n",
        "---\n",
        "\n",
        "## **Part 2: Challenge Problem**\n",
        "\n",
        "---\n",
        "\n",
        "This section represents the challenge problem for this notebook that will require applying what we covered to new topics."
      ],
      "metadata": {
        "id": "jPGHKDOjWjx0"
      }
    },
    {
      "cell_type": "markdown",
      "source": [
        "#### **Problem #2.1**\n",
        "\n",
        "Your final challenge is to write a modified version of the code above that uses Grover's algorithm to search for one of *multiple* correct solutions. For example, if both '000' and '101' are equally valid solutions and we want Grover to be on the lookout for either.\n",
        "\n",
        "<br>\n",
        "\n",
        "To test that your code works, run the code below to see a histogram of only correct results."
      ],
      "metadata": {
        "id": "7yFGS-yVi2Ry"
      }
    },
    {
      "cell_type": "code",
      "source": [
        "def multi_solution_prepare(# COMPLETE THIS CODE\n",
        "\n",
        "  # COMPLETE THIS CODE\n",
        "\n",
        "\n",
        "def multi_solution_oracle(# COMPLETE THIS CODE\n",
        "\n",
        "  # COMPLETE THIS CODE\n",
        "\n",
        "\n",
        "def multi_solution_diffusion_operator(# COMPLETE THIS CODE\n",
        "\n",
        "  # COMPLETE THIS CODE\n",
        "\n",
        "\n",
        "def multi_solution_grovers_algorithm_circuit(# COMPLETE THIS CODE\n",
        "\n",
        "  # COMPLETE THIS CODE"
      ],
      "metadata": {
        "id": "mPd71nOgR7b5",
        "colab": {
          "base_uri": "https://localhost:8080/",
          "height": 106
        },
        "outputId": "cfb0afec-0933-4723-9deb-71a0c16be619"
      },
      "execution_count": null,
      "outputs": [
        {
          "output_type": "error",
          "ename": "SyntaxError",
          "evalue": "invalid syntax (<ipython-input-10-b90e949edd7b>, line 6)",
          "traceback": [
            "\u001b[0;36m  File \u001b[0;32m\"<ipython-input-10-b90e949edd7b>\"\u001b[0;36m, line \u001b[0;32m6\u001b[0m\n\u001b[0;31m    def multi_solution_oracle(# COMPLETE THIS CODE\u001b[0m\n\u001b[0m    ^\u001b[0m\n\u001b[0;31mSyntaxError\u001b[0m\u001b[0;31m:\u001b[0m invalid syntax\n"
          ]
        }
      ]
    },
    {
      "cell_type": "code",
      "source": [
        "# Parameters\n",
        "target_bitstrings = ['000', '101']\n",
        "num_qubits = len(target_bitstrings[0])\n",
        "num_iterations = 1\n",
        "\n",
        "# Generate the circuit for Grover's algorithm\n",
        "circuit = multi_solution_grovers_algorithm_circuit(num_qubits, target_bitstrings, num_iterations)\n",
        "\n",
        "# Display the circuit\n",
        "print(\"Circuit with \" + str(num_iterations) + \" iterations:\")\n",
        "print(circuit)\n",
        "\n",
        "# Simulate the circuit\n",
        "simulator = cirq.Simulator()\n",
        "result = simulator.run(circuit, repetitions=1000)\n",
        "\n",
        "# Plot results\n",
        "hist = cirq.plot_state_histogram(result, plt.subplot(), title = 'Qubit States', xlabel = 'States', ylabel = 'Occurrences', tick_label = binary_labels(num_qubits))\n",
        "plt.show()"
      ],
      "metadata": {
        "id": "Ct26Zr3YRQir",
        "colab": {
          "base_uri": "https://localhost:8080/",
          "height": 211
        },
        "outputId": "2f634c31-2db7-478a-9669-8c4c48b8bbb9"
      },
      "execution_count": null,
      "outputs": [
        {
          "output_type": "error",
          "ename": "NameError",
          "evalue": "name 'multi_solution_grovers_algorithm_circuit' is not defined",
          "traceback": [
            "\u001b[0;31m---------------------------------------------------------------------------\u001b[0m",
            "\u001b[0;31mNameError\u001b[0m                                 Traceback (most recent call last)",
            "\u001b[0;32m<ipython-input-9-9258a12baa0a>\u001b[0m in \u001b[0;36m<cell line: 0>\u001b[0;34m()\u001b[0m\n\u001b[1;32m      5\u001b[0m \u001b[0;34m\u001b[0m\u001b[0m\n\u001b[1;32m      6\u001b[0m \u001b[0;31m# Generate the circuit for Grover's algorithm\u001b[0m\u001b[0;34m\u001b[0m\u001b[0;34m\u001b[0m\u001b[0m\n\u001b[0;32m----> 7\u001b[0;31m \u001b[0mcircuit\u001b[0m \u001b[0;34m=\u001b[0m \u001b[0mmulti_solution_grovers_algorithm_circuit\u001b[0m\u001b[0;34m(\u001b[0m\u001b[0mnum_qubits\u001b[0m\u001b[0;34m,\u001b[0m \u001b[0mtarget_bitstrings\u001b[0m\u001b[0;34m,\u001b[0m \u001b[0mnum_iterations\u001b[0m\u001b[0;34m)\u001b[0m\u001b[0;34m\u001b[0m\u001b[0;34m\u001b[0m\u001b[0m\n\u001b[0m\u001b[1;32m      8\u001b[0m \u001b[0;34m\u001b[0m\u001b[0m\n\u001b[1;32m      9\u001b[0m \u001b[0;31m# Display the circuit\u001b[0m\u001b[0;34m\u001b[0m\u001b[0;34m\u001b[0m\u001b[0m\n",
            "\u001b[0;31mNameError\u001b[0m: name 'multi_solution_grovers_algorithm_circuit' is not defined"
          ]
        }
      ]
    },
    {
      "cell_type": "markdown",
      "source": [
        "#End of notebook\n",
        "---\n",
        "© 2024 The Coding School, All rights reserved"
      ],
      "metadata": {
        "id": "7dzC09dLlEhm"
      }
    }
  ]
}