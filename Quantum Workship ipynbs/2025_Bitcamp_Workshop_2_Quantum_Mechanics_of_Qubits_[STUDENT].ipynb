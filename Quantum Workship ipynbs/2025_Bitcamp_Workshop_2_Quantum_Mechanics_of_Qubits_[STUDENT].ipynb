{
  "nbformat": 4,
  "nbformat_minor": 0,
  "metadata": {
    "colab": {
      "provenance": [],
      "collapsed_sections": [
        "YeZl2AzDSd89",
        "4YcS0UIUU3Kg",
        "IQYACh6rcVzF",
        "_Acl4194cRVv"
      ]
    },
    "kernelspec": {
      "name": "python3",
      "display_name": "Python 3"
    },
    "language_info": {
      "name": "python"
    }
  },
  "cells": [
    {
      "cell_type": "markdown",
      "source": [
        "# **Lab 2: Quantum Mechanics of Qubits**\n",
        "---\n",
        "\n",
        "### **Description**\n",
        "In this notebook, we will apply our cirq skills to see superposition, interference, and measurement in action with qubits.\n",
        "\n",
        "<br>\n",
        "\n",
        "### **Structure**\n",
        "**Part 1**: [Quantum Mechanics of Qubits](#p1)\n",
        "\n",
        "**Part 2**: [Challenge Problems](#p2)\n",
        "\n",
        "\n",
        "<br>\n",
        "\n",
        "### **Resources**\n",
        "* [Cirq Basics Cheat Sheet](https://docs.google.com/document/d/1Ir1qtXS2-C_tGThk00P1fZfZjoC8oet4N9Rtkw7LgVY/edit?usp=drive_link)\n",
        "\n",
        "<br>\n",
        "\n",
        "**Before starting, run the code below to import all necessary functions and libraries.**\n"
      ],
      "metadata": {
        "id": "mbZXQ3rA3NwL"
      }
    },
    {
      "cell_type": "code",
      "source": [
        "# Make sure to clear the kernel if you encounter an import error (Runtime -> Restart Session)\n",
        "import warnings\n",
        "warnings.filterwarnings(\"ignore\")\n",
        "\n",
        "\n",
        "try:\n",
        "    import cirq\n",
        "except ImportError:\n",
        "    print(\"installing cirq...\")\n",
        "    !pip install cirq --quiet\n",
        "    import cirq\n",
        "    print(\"installed cirq.\")\n",
        "\n",
        "import cirq_web\n",
        "import cirq_web.bloch_sphere as bloch_sphere\n",
        "import matplotlib.pyplot as plt\n",
        "\n",
        "import numpy as np\n",
        "import math\n",
        "\n",
        "print(\"Libraries Imported Successfully!\")"
      ],
      "metadata": {
        "id": "REAA4k2yTCt8",
        "colab": {
          "base_uri": "https://localhost:8080/"
        },
        "outputId": "dbff0a53-4072-45b4-c2b2-b651b53ccace"
      },
      "execution_count": null,
      "outputs": [
        {
          "output_type": "stream",
          "name": "stdout",
          "text": [
            "Libraries Imported Successfully!\n"
          ]
        }
      ]
    },
    {
      "cell_type": "markdown",
      "source": [
        "<a name=\"p1\"></a>\n",
        "\n",
        "---\n",
        "\n",
        "## **Part 1: Quantum Mechanics of Qubits**\n",
        "\n",
        "---\n",
        "\n",
        "In this section, we will explore superposition, interference, and measurement for qubits.\n"
      ],
      "metadata": {
        "id": "AkT4t5ULWcUc"
      }
    },
    {
      "cell_type": "markdown",
      "source": [
        "#### **Problem #1.1**\n",
        "\n",
        "Let's start by simulating a typical coin flip in which heads (0) and tails (1) are equally likely. In particular, we will:\n",
        "\n",
        "1. Create a circuit that applies an H gate to a qubit and visualize the qubit's Bloch Sphere at the end.\n",
        "\n",
        "2. Append a measurement of this qubit and simulate the circuit 100 times. Visualize the results using a histogram."
      ],
      "metadata": {
        "id": "Pv5wLMB7XPk3"
      }
    },
    {
      "cell_type": "code",
      "source": [
        "# COMPLETE THIS CODE"
      ],
      "metadata": {
        "id": "90fZkRLWSHIN"
      },
      "execution_count": null,
      "outputs": []
    },
    {
      "cell_type": "markdown",
      "source": [
        "#### **Problem #1.2**\n",
        "\n",
        "Now, let's use quantum interference to simulate an unfair coin toss such that tails (1) is more likely. In particular, we will:\n",
        "\n",
        "1. Create a circuit that applies an H gate and then a $\\frac{\\pi}{4}$ RY gate (the same from the challenge problems yesterday) to a qubit and visualize the qubit's Bloch Sphere at the end. **NOTE**: In case you didn't complete the challenge problems from yesterday yet, you can apply this gate as follows: `circuit.append(cirq.ry(math.pi/4)(qubit))`.\n",
        "\n",
        "2. Append a measurement of this qubit and simulate the circuit 100 times. Visualize the results using a histogram.\n",
        "\n",
        "<br>\n",
        "\n",
        "**NOTE**: We've imported the `math` library above, so you can directly use `math.pi` here."
      ],
      "metadata": {
        "id": "Ujt4kSx8Sd88"
      }
    },
    {
      "cell_type": "code",
      "source": [
        "# COMPLETE THIS CODE"
      ],
      "metadata": {
        "id": "7xopnYUDSd89"
      },
      "execution_count": null,
      "outputs": []
    },
    {
      "cell_type": "code",
      "source": [
        "# COMPLETE THIS CODE"
      ],
      "metadata": {
        "id": "VTV7JeQcTkCg"
      },
      "execution_count": null,
      "outputs": []
    },
    {
      "cell_type": "markdown",
      "source": [
        "#### **Reflection**\n",
        "\n",
        "How have the above circuits demonstrated superposition and interference?"
      ],
      "metadata": {
        "id": "4YcS0UIUU3Kg"
      }
    },
    {
      "cell_type": "markdown",
      "source": [
        "#### **Problem #1.3**\n",
        "\n",
        "Lastly, let's show the destructive effect of quantum measurement. Specifically, we will simulate and visualize the histogram of results for three very similar circuits:\n",
        "\n",
        "1. H gate, H gate, measurement.\n",
        "\n",
        "2. H gate, measurement, H gate, measurement. **NOTE**: We have provided this code for you so you can see the implementation details noted below.\n",
        "\n",
        "3. H gate, measurement, measurement.\n",
        "\n",
        "\n",
        "<br>\n",
        "\n",
        "**NOTE**: There are two main adjustments we have made to account for multiple measurements in the same circuit:\n",
        "* To distinguish the results between the measurements on the same qubit, we will label each measurement with a unique \"key\" of our choosing by using `cirq.measure(qubit, key = '...')`. Cirq will actually throw an error if we don't!\n",
        "* To make the histogram as meaningful as possible, we will specify our own labels for each outcome instead of cirq's default 0, 1, 2, 3,..."
      ],
      "metadata": {
        "id": "3uLPPkaUXkqh"
      }
    },
    {
      "cell_type": "code",
      "source": [
        "# COMPLETE THIS CODE"
      ],
      "metadata": {
        "id": "zR7E9SChfW_M"
      },
      "execution_count": null,
      "outputs": []
    },
    {
      "cell_type": "code",
      "source": [
        "# COMPLETE THIS CODE"
      ],
      "metadata": {
        "id": "AQ--A_dKfsHP"
      },
      "execution_count": null,
      "outputs": []
    },
    {
      "cell_type": "code",
      "source": [
        "# COMPLETE THIS CODE"
      ],
      "metadata": {
        "id": "thqJQZYZfr8h"
      },
      "execution_count": null,
      "outputs": []
    },
    {
      "cell_type": "markdown",
      "source": [
        "#### **Reflection**\n",
        "\n",
        "By comparing the first circuit to each of the others, how can we see the destructive effects of quantum measurement?"
      ],
      "metadata": {
        "id": "_Acl4194cRVv"
      }
    },
    {
      "cell_type": "markdown",
      "source": [
        "<a name=\"p2\"></a>\n",
        "\n",
        "---\n",
        "\n",
        "## **Part 2: Challenge Problems**\n",
        "\n",
        "---\n",
        "\n",
        "This section represents the challenge problems for this notebook that will require applying what we covered to new topics."
      ],
      "metadata": {
        "id": "jPGHKDOjWjx0"
      }
    },
    {
      "cell_type": "markdown",
      "source": [
        "#### **Problem #2.1**\n",
        "\n",
        "The code below implements a version of what is known as the coin or penny flip game in the game theory community. It is a two person game that goes as follows:\n",
        "\n",
        "1. A coin starts heads up.\n",
        "\n",
        "2. Player 1 chooses whether or not to flip the coin to tails. Player 2 does not know whether Player 1 flipped it or not.\n",
        "\n",
        "3. Turn 2: Player 2 choose whether or not to flip the coin to the other side. Player 1 does not know whether Player 2 flipped it or not.\n",
        "\n",
        "4. Turn 3: Player 1 chooses whether or not to flip the coin to the other side again and the game ends.\n",
        "\n",
        "5. If the coin is heads (0) then Player 1 wins, otherwise Player 2 wins.\n",
        "\n",
        "<br>\n",
        "\n",
        "Given that neither player knows what the other one does and they only play once, there is no particularly winning strategy here. Adjusting the rules of the game may change this (such as playing multiple rounds, players knowing what the other one does, etc.)--the study of which is known as game theory.\n",
        "\n",
        "<br>\n",
        "\n",
        "**Run the code below several times to familiarize yourself with this game.**"
      ],
      "metadata": {
        "id": "ZenBFbgrldDg"
      }
    },
    {
      "cell_type": "code",
      "source": [
        "import getpass\n",
        "\n",
        "def classical_coin_flip():\n",
        "  qubit = cirq.NamedQubit('q0')\n",
        "  circuit = cirq.Circuit()\n",
        "\n",
        "  choice1 = getpass.getpass('P1: Do you want to flip? (y/n)')\n",
        "  if choice1 == 'y':\n",
        "    circuit.append(cirq.X(qubit))\n",
        "\n",
        "  choice2 = getpass.getpass('P2: Do you want to flip? (y/n)')\n",
        "  if choice2 == 'y':\n",
        "    circuit.append(cirq.X(qubit))\n",
        "\n",
        "  choice3 = getpass.getpass('P1: Do you want to flip? (y/n)')\n",
        "  if choice3 == 'y':\n",
        "    circuit.append(cirq.X(qubit))\n",
        "\n",
        "  circuit.append(cirq.measure(qubit))\n",
        "  simulator = cirq.Simulator()\n",
        "  result = simulator.run(circuit, repetitions=1).measurements['q0'][0][0]\n",
        "\n",
        "  print('\\nP' + str(result + 1) + ' wins! This is based on the moves:')\n",
        "  print('P1 - ' + str(choice1) +\n",
        "        ', P2 - ' + str(choice2) +\n",
        "        ', P1 - ' + str(choice1))\n",
        "\n",
        "\n",
        "classical_coin_flip()"
      ],
      "metadata": {
        "colab": {
          "base_uri": "https://localhost:8080/"
        },
        "id": "4UU1M056hDWq",
        "outputId": "99dc0565-7969-48d1-b667-f0737cef1279"
      },
      "execution_count": null,
      "outputs": [
        {
          "output_type": "stream",
          "name": "stdout",
          "text": [
            "P1: Do you want to flip? (y/n)··········\n",
            "P2: Do you want to flip? (y/n)··········\n",
            "P1: Do you want to flip? (y/n)··········\n",
            "\n",
            "P2 wins! This is based on the moves:\n",
            "P1 - y, P2 - y, P1 - y\n"
          ]
        }
      ]
    },
    {
      "cell_type": "markdown",
      "source": [
        "#### **Problem #2.2**\n",
        "\n",
        "The code below implements a version of this game where everything is the same, *except* Player 1 can put the coin in superposition or not (poor Player 2 is stuck with the purely classical actions of flipping or not).\n",
        "\n",
        "<br>\n",
        "\n",
        "Currently, you must input each Player 1's decisions. **Your goal is to fix Player 1's decisions so that they always win.** In other words, set `choice1` and `choice3` (without asking for input) such that it doesn't matter what `choice2` is. **NOTE**: Each of Player 1's decisions can only be to flip, Hadamard, or do nothing.\n",
        "\n",
        "<br>\n",
        "\n",
        "**HINT**: Consider the effect of the X and H gates on the Bloch Sphere."
      ],
      "metadata": {
        "id": "JZyiugqpmYrr"
      }
    },
    {
      "cell_type": "code",
      "source": [
        "def quantum_coin_flip():\n",
        "  qubit = cirq.NamedQubit('q0')\n",
        "  circuit = cirq.Circuit()\n",
        "\n",
        "  choice1 = getpass.getpass('P1: Do you want to flip or Hadamard? (f/h/n)')\n",
        "  if choice1 == 'y':\n",
        "    circuit.append(cirq.X(qubit))\n",
        "  elif choice1 == 'h':\n",
        "    circuit.append(cirq.H(qubit))\n",
        "\n",
        "  choice2 = getpass.getpass('P2: Do you want to flip? (y/n)')\n",
        "  if choice2 == 'y':\n",
        "    circuit.append(cirq.X(qubit))\n",
        "\n",
        "  choice3 = getpass.getpass('P1: Do you want to flip or Hadamard? (f/h/n)')\n",
        "  if choice3 == 'y':\n",
        "    circuit.append(cirq.X(qubit))\n",
        "  elif choice3 == 'h':\n",
        "    circuit.append(cirq.H(qubit))\n",
        "\n",
        "  circuit.append(cirq.measure(qubit))\n",
        "  simulator = cirq.Simulator()\n",
        "  result = simulator.run(circuit, repetitions=1).measurements['q0'][0][0]\n",
        "\n",
        "  print('\\nP' + str(result + 1) + ' wins! This is based on the moves:')\n",
        "  print('P1 - ' + str(choice1) +\n",
        "        ', P2 - ' + str(choice2) +\n",
        "        ', P1 - ' + str(choice1))\n",
        "\n",
        "\n",
        "quantum_coin_flip()"
      ],
      "metadata": {
        "id": "zdqLmaf-m72G",
        "colab": {
          "base_uri": "https://localhost:8080/"
        },
        "outputId": "52f2a819-07b3-4e97-f2e3-310e93d90118"
      },
      "execution_count": null,
      "outputs": [
        {
          "output_type": "stream",
          "name": "stdout",
          "text": [
            "P1: Do you want to flip or Hadamard? (f/h/n)··········\n",
            "P2: Do you want to flip? (y/n)··········\n",
            "P1: Do you want to flip or Hadamard? (f/h/n)··········\n",
            "\n",
            "P2 wins! This is based on the moves:\n",
            "P1 - f, P2 - y, P1 - f\n"
          ]
        }
      ]
    },
    {
      "cell_type": "markdown",
      "source": [
        "##### **Solution**"
      ],
      "metadata": {
        "id": "hrrhvcFZnf7f"
      }
    },
    {
      "cell_type": "code",
      "source": [
        "def quantum_coin_flip():\n",
        "  qubit = cirq.NamedQubit('q0')\n",
        "  circuit = cirq.Circuit()\n",
        "\n",
        "  choice1 = 'h'\n",
        "  circuit.append(cirq.H(qubit))\n",
        "\n",
        "  choice2 = getpass.getpass('P2: Do you want to flip? (y/n)')\n",
        "  if choice2 == 'y':\n",
        "    circuit.append(cirq.X(qubit))\n",
        "\n",
        "  choice3 = 'h'\n",
        "  circuit.append(cirq.H(qubit))\n",
        "\n",
        "  circuit.append(cirq.measure(qubit))\n",
        "  simulator = cirq.Simulator()\n",
        "  result = simulator.run(circuit, repetitions=1).measurements['q0'][0][0]\n",
        "\n",
        "  print('\\nP' + str(result + 1) + ' wins! This is based on the moves:')\n",
        "  print('P1 - ' + str(choice1) +\n",
        "        ', P2 - ' + str(choice2) +\n",
        "        ', P1 - ' + str(choice1))\n",
        "\n",
        "\n",
        "quantum_coin_flip()"
      ],
      "metadata": {
        "colab": {
          "base_uri": "https://localhost:8080/"
        },
        "id": "v0xE_5b-lM9O",
        "outputId": "0476061d-91f9-49d3-af4f-294f89215f3b"
      },
      "execution_count": null,
      "outputs": [
        {
          "output_type": "stream",
          "name": "stdout",
          "text": [
            "P2: Do you want to flip? (y/n)··········\n",
            "\n",
            "P1 wins! This is based on the moves:\n",
            "P1 - h, P2 - y, P1 - h\n"
          ]
        }
      ]
    },
    {
      "cell_type": "markdown",
      "source": [
        "#End of notebook\n",
        "---\n",
        "© 2024 The Coding School, All rights reserved"
      ],
      "metadata": {
        "id": "7dzC09dLlEhm"
      }
    }
  ]
}