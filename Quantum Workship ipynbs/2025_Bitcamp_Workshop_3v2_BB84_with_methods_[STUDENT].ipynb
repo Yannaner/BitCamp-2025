{
  "nbformat": 4,
  "nbformat_minor": 0,
  "metadata": {
    "colab": {
      "provenance": [],
      "collapsed_sections": [
        "RZ7qgIcLhjRq",
        "I2x0l8ghl2E2",
        "lFQItjlxmeeP",
        "0qwusgw_mO5F",
        "cvkEWE5YnjDw",
        "RbWVp079jgYH",
        "aQ4yOjOn3HXP",
        "GuvtCrsc3e09",
        "ujN-wp854Xvd",
        "woQsjmnD4ycO",
        "NOyc8wWB4_X0",
        "8d7wjS9u7hcT",
        "lxNnA4La78J0",
        "0VNVAm9M-P39",
        "KPo7nkMX-rea",
        "8Wt_cODn--TB",
        "ObiGWrK9_Ow7",
        "Ngjt5evgSutm",
        "CuZ7t9EfZxer",
        "aFlaqvWITWA-",
        "XKD868bPVeyX"
      ],
      "toc_visible": true
    },
    "kernelspec": {
      "name": "python3",
      "display_name": "Python 3"
    },
    "language_info": {
      "name": "python"
    }
  },
  "cells": [
    {
      "cell_type": "markdown",
      "source": [
        "# **Lab 3: The BB84 Protocol**\n",
        "---\n",
        "\n",
        "### **Description**\n",
        "In this notebook, we will apply our cirq skills to implement the BB84 Quantum Key Distribution Protocol.\n",
        "\n",
        "<br>\n",
        "\n",
        "### **Structure**\n",
        "**Part 1**: [Implementing BB84 with Cirq](#p1)\n",
        "\n",
        "**Part 2**: [Challenge Problem](#p2)\n",
        "\n",
        "\n",
        "<br>\n",
        "\n",
        "### **Resources**\n",
        "* [Cirq Basics Cheat Sheet](https://docs.google.com/document/d/1Ir1qtXS2-C_tGThk00P1fZfZjoC8oet4N9Rtkw7LgVY/edit?usp=drive_link)\n",
        "* [BB84 with Alice and Bob in Cirq Cheat Sheet](https://docs.google.com/document/d/1VQHFhKWTgCWchwPECMBe_LDGEzn8hu4t1uq1P44yVMY/edit)\n",
        "\n",
        "<br>\n",
        "\n",
        "**Before starting, run the code below to import all necessary functions and libraries.**\n"
      ],
      "metadata": {
        "id": "mbZXQ3rA3NwL"
      }
    },
    {
      "cell_type": "code",
      "source": [
        "# @title\n",
        "import warnings\n",
        "warnings.filterwarnings('ignore')\n",
        "\n",
        "\n",
        "try:\n",
        "    import cirq\n",
        "except ImportError:\n",
        "    print('installing cirq...')\n",
        "    !pip install cirq --quiet\n",
        "    import cirq\n",
        "    print('installed cirq.')\n",
        "\n",
        "\n",
        "#!git clone https://github.com/the-codingschool/bb84.git\n",
        "#from bb84.bb84 import BB84\n",
        "from cirq import NamedQubit, Simulator, Circuit\n",
        "\n",
        "class BB84:\n",
        "\n",
        "    \"\"\"\n",
        "    Implements the BB84 protocol for quantum key distribution.\n",
        "\n",
        "    The BB84 protocol allows two parties, Alice and Bob, to generate a shared secret key, which can then be used\n",
        "    for secure communication. The protocol also involves checking for the presence of an eavesdropper, Eve.\n",
        "    This implementation provides a simulated environment for the protocol's execution, including the potential\n",
        "    interception by Eve.\n",
        "\n",
        "\n",
        "    <b>NOTE</b>:\n",
        "        This class requires external definitions for the quantum circuits and simulator to function properly.\n",
        "\n",
        "    <br>\n",
        "\n",
        "    © 2024 The Coding School, All rights reserved.\n",
        "    \"\"\"\n",
        "\n",
        "    qubit: NamedQubit\n",
        "    \"\"\"The qubit being used for the protocol. Must be defined externally, for example:\n",
        "    ```python\n",
        "    protocol.qubit = cirq.NamedQubit('q0')\n",
        "    ```\n",
        "    \"\"\"\n",
        "\n",
        "    simulator: Simulator\n",
        "    \"\"\"The quantum circuit simulator. Must be defined externally, for example:\n",
        "    ```python\n",
        "    protocol.simulator = cirq.Simulator()\n",
        "    ```\n",
        "    \"\"\"\n",
        "\n",
        "    alice_send_0_no_H_circuit: Circuit\n",
        "    \"\"\"The quantum circuit that Alice will use to encode a 0 without an H gate. Must be defined externally, for example:\n",
        "    ```python\n",
        "    protocol.alice_send_0_no_H_circuit = cirq.Circuit()\n",
        "    ```\n",
        "    \"\"\"\n",
        "\n",
        "    alice_send_1_no_H_circuit: Circuit\n",
        "    \"\"\"The quantum circuit that Alice will use to encode a 1 without an H gate. Must be defined externally, for example:\n",
        "    ```python\n",
        "    protocol.alice_send_1_no_H_circuit = cirq.Circuit()\n",
        "    ```\n",
        "    \"\"\"\n",
        "\n",
        "    alice_send_0_H_circuit: Circuit\n",
        "    \"\"\"The quantum circuit that Alice will use to encode a 0 with an H gate. Must be defined externally, for example:\n",
        "    ```python\n",
        "    protocol.alice_send_0_H_circuit = cirq.Circuit()\n",
        "    ```\n",
        "    \"\"\"\n",
        "\n",
        "    alice_send_1_H_circuit: Circuit\n",
        "    \"\"\"The quantum circuit that Alice will use to encode a 1 with an H gate. Must be defined externally, for example:\n",
        "    ```python\n",
        "    protocol.alice_send_1_H_circuit = cirq.Circuit()\n",
        "    ```\n",
        "    \"\"\"\n",
        "\n",
        "    eve_intercept_circuit: Circuit\n",
        "    \"\"\"The quantum circuit that Eve will use to intercept the qubit between Phase 1 and 2. Must be defined externally, for example:\n",
        "    ```python\n",
        "    protocol.eve_intercept_circuit = cirq.Circuit()\n",
        "    ```\n",
        "    \"\"\"\n",
        "\n",
        "    bob_receive_no_H_circuit: Circuit\n",
        "    \"\"\"The quantum circuit that Bob will use to receive and measure the qubit during Phase 3 without using an H gate. Must be defined externally, for example:\n",
        "    ```python\n",
        "    protocol.bob_receive_no_H_circuit = cirq.Circuit()\n",
        "    ```\n",
        "    \"\"\"\n",
        "\n",
        "    bob_receive_H_circuit: Circuit\n",
        "    \"\"\"The quantum circuit that Bob will use to receive and measure the qubit during Phase 3 using an H gate. Must be defined externally, for example:\n",
        "    ```python\n",
        "    protocol.bob_receive_H_circuit = cirq.Circuit()\n",
        "    ```\n",
        "    \"\"\"\n",
        "\n",
        "\n",
        "    eve_intercept: str\n",
        "    \"\"\"Indicates if Eve intercepts the qubits ('yes' or 'no'). Should be set upon initialization or after calling `reset()`.\"\"\"\n",
        "\n",
        "    alice_bit: int\n",
        "    \"\"\"The current bit Alice wants to send. Should only be modified indirectly through the `send_bit` method's parameters.\"\"\"\n",
        "\n",
        "    bob_bit: int\n",
        "    \"\"\"The bit received by Bob after measurement. Should only be modified indirectly through the `send_bit` method's parameters.\"\"\"\n",
        "\n",
        "    eve_bit: int\n",
        "    \"\"\"The bit measured by Eve if interception occurs. Should only be modified indirectly through the `send_bit` method's parameters.\"\"\"\n",
        "\n",
        "    does_alice_apply_H: str\n",
        "    \"\"\"Indicates if Alice applies the Hadamard gate ('yes' or 'no'). Should only be modified indirectly through the `send_bit` method's parameters.\"\"\"\n",
        "\n",
        "    does_bob_apply_H: str\n",
        "    \"\"\"Indicates if Bob applies the Hadamard gate ('yes' or 'no'). Should only be modified indirectly through the `send_bit` method's parameters.\"\"\"\n",
        "\n",
        "\n",
        "    alice_key: list\n",
        "    \"\"\"The secret key generated by Alice. <b>SHOULD NOT BE MODIFIED BY USER</b>.\"\"\"\n",
        "\n",
        "    bob_key: list\n",
        "    \"\"\"The secret key generated by Bob. <b>SHOULD NOT BE MODIFIED BY USER</b>.\"\"\"\n",
        "\n",
        "    eve_key: list\n",
        "    \"\"\"The key intercepted by Eve, if any. <b>SHOULD NOT BE MODIFIED BY USER</b>.\"\"\"\n",
        "\n",
        "    bit_num: int\n",
        "    \"\"\"Counter for the number of bits processed so far. <b>SHOULD NOT BE MODIFIED BY USER</b>.\"\"\"\n",
        "\n",
        "\n",
        "    def __init__(self, eve_intercept = 'no'):\n",
        "\n",
        "      \"\"\"\n",
        "      Initializes the BB84 protocol simulation with default or specified settings.\n",
        "\n",
        "      Parameters:\n",
        "          `eve_intercept` (str, optional): Determines if Eve will attempt to intercept the qubits ('yes' or 'no').\n",
        "                                         Defaults to 'no'.\n",
        "\n",
        "      Example Usage:\n",
        "      ```python\n",
        "      protocol_without_eve = BB84()\n",
        "\n",
        "      also_protocol_without_eve = BB84(eve_intercept = 'no')\n",
        "\n",
        "      protocol_with_eve = BB84(eve_intercept = 'yes')\n",
        "      ```\n",
        "      \"\"\"\n",
        "\n",
        "      self.alice_bit = None\n",
        "      self.bob_bit = None\n",
        "\n",
        "      self.eve_bit = None\n",
        "      self.eve_intercept = eve_intercept\n",
        "\n",
        "      self.does_alice_apply_H = None\n",
        "      self.does_bob_apply_H = None\n",
        "\n",
        "      self.qubit = None\n",
        "      self.simulator = None\n",
        "\n",
        "      self.alice_send_0_no_H_circuit = None\n",
        "      self.alice_send_1_no_H_circuit = None\n",
        "      self.alice_send_0_H_circuit = None\n",
        "      self.alice_send_1_H_circuit = None\n",
        "\n",
        "      self.eve_intercept_circuit = None\n",
        "\n",
        "      self.bob_receive_no_H_circuit = None\n",
        "      self.bob_receive_H_circuit = None\n",
        "\n",
        "      self.alice_key = []\n",
        "      self.bob_key = []\n",
        "      self.eve_key = []\n",
        "\n",
        "      self.bit_num = 1\n",
        "\n",
        "\n",
        "    def phase_1_circuit(self):\n",
        "\n",
        "      \"\"\"\n",
        "      Creates a circuit such that Alice encodes her bit into a qubit and applies an H gate if she's chosen to do so.\n",
        "      Then she sends this qubit through her quantum channel to Bob, hoping Eve does not intercept.\n",
        "\n",
        "      <b>Returns</b>:\n",
        "          The quantum circuit for Phase 1 of BB84 (through Alice sending her qubit).\n",
        "\n",
        "      <b>INTERNAL USE ONLY</b>\n",
        "      \"\"\"\n",
        "\n",
        "      if self.alice_bit == 0:\n",
        "        if self.does_alice_apply_H == 'no':\n",
        "          return self.alice_send_0_no_H_circuit\n",
        "        else:\n",
        "          return self.alice_send_0_H_circuit\n",
        "\n",
        "      else:\n",
        "        if self.does_alice_apply_H == 'no':\n",
        "          return self.alice_send_1_no_H_circuit\n",
        "        else:\n",
        "          return self.alice_send_1_H_circuit\n",
        "\n",
        "\n",
        "    def eve_circuit(self):\n",
        "\n",
        "      \"\"\"\n",
        "      Creates a circuit for Eve's role in the protocol, which depends on if she's intercepting or not.\n",
        "\n",
        "      <b>Returns</b>:\n",
        "          The quantum circuit for Eve's interception if it occurs, otherwise an empty circuit.\n",
        "\n",
        "      <b>INTERNAL USE ONLY</b>\n",
        "      \"\"\"\n",
        "\n",
        "      if self.eve_intercept == 'yes':\n",
        "        return self.eve_intercept_circuit\n",
        "      else:\n",
        "        return cirq.Circuit()\n",
        "\n",
        "\n",
        "    def phase_2_circuit(self):\n",
        "\n",
        "      \"\"\"\n",
        "      Creates a circuit such that Bob receives the qubit, applies an H gate if he's decided to do so,\n",
        "      and then measures it.\n",
        "\n",
        "      <b>Returns</b>:\n",
        "          The quantum circuit for Phase 2 of BB84 (through Bob measuring the qubit).\n",
        "\n",
        "      <b>INTERNAL USE ONLY</b>\n",
        "      \"\"\"\n",
        "\n",
        "      if self.does_bob_apply_H == 'no':\n",
        "        return self.bob_receive_no_H_circuit\n",
        "      else:\n",
        "        return self.bob_receive_H_circuit\n",
        "\n",
        "\n",
        "    def restart(self):\n",
        "\n",
        "      \"\"\"\n",
        "      Resets the protocol such that the circuits are all the same, but they are being used with blank keys and on a new quantum channel.\n",
        "      \"\"\"\n",
        "\n",
        "      self.alice_key = []\n",
        "      self.bob_key = []\n",
        "      self.eve_key = []\n",
        "\n",
        "      self.bit_num = 1\n",
        "\n",
        "\n",
        "    def send_bit(self, alice_bit, does_alice_apply_H, does_bob_apply_H, compare_bits = 'no'):\n",
        "\n",
        "      \"\"\"\n",
        "      Simulates the full BB84 protocol, potentially intercepted by Eve.\n",
        "\n",
        "      Parameters:\n",
        "        <ul>\n",
        "          <li>`alice_bit` (int): The bit Alice wants to send.</li>\n",
        "          <li>`does_alice_apply_H` (str): Indicates if Alice applies the Hadamard gate ('yes' or 'no').</li>\n",
        "          <li>`does_bob_apply_H` (str): Indicates if Bob applies the Hadamard gate ('yes' or 'no').</li>\n",
        "          <li>`compare_bit` (str, optional): Determines if Alice and Bob compare their bits directly ('yes' or 'no').\n",
        "                                       Defaults to 'no'.</li>\n",
        "        </ul>\n",
        "\n",
        "      <b>NOTE</b>:\n",
        "          This method simulates the entire process of sending a bit, including preparation, potential interception,\n",
        "          and measurement. It also handles error checking for uninitialized objects that are required in the given case.\n",
        "\n",
        "\n",
        "      Example Usage:\n",
        "      ```python\n",
        "      # Alice sends a 1 without an H gate and Bob receives and measures the qubit without an H gate.\n",
        "      # The default is that they will not compare their bits and instead will add them to their key\n",
        "      # if they both made the same choice of H gate or not.\n",
        "      protocol.send_bit(alice_bit = 1, does_alice_apply_H = 'no', does_bob_apply_H = 'no')\n",
        "\n",
        "\n",
        "      # Same as above, except Alice and Bob will compare bits instead of adding them to their key.\n",
        "      protocol.send_bit(alice_bit = 1, does_alice_apply_H = 'no', does_bob_apply_H = 'no', compare_bits = 'yes')\n",
        "      ```\n",
        "      \"\"\"\n",
        "\n",
        "      self.alice_bit = alice_bit\n",
        "      self.does_alice_apply_H = does_alice_apply_H\n",
        "      self.does_bob_apply_H = does_bob_apply_H\n",
        "\n",
        "      if self.qubit == None:\n",
        "        print('Error: A qubit object must be defined first.')\n",
        "        return\n",
        "\n",
        "      elif self.simulator == None:\n",
        "        print('Error: A simulator object must be defined first.')\n",
        "        return\n",
        "\n",
        "\n",
        "      # Prepare Alice's qubit\n",
        "      alice_circuit = self.phase_1_circuit()\n",
        "\n",
        "      if alice_circuit == None:\n",
        "\n",
        "        applies_H = 'no H'\n",
        "        if self.does_alice_apply_H == 'yes':\n",
        "          applies_H = 'an H'\n",
        "\n",
        "        print('Error: Alice\\'s circuit for sending a', self.alice_bit, 'with', applies_H, 'must be defined first.')\n",
        "        return\n",
        "\n",
        "\n",
        "      # Eve's interception\n",
        "      eve_circuit = self.eve_circuit()\n",
        "\n",
        "      if eve_circuit == None:\n",
        "\n",
        "        print('Error: Eve\\'s interception circuit must be defined first.')\n",
        "        return\n",
        "\n",
        "      # Bob's measurement\n",
        "      bob_circuit = self.phase_2_circuit()\n",
        "\n",
        "      if bob_circuit == None:\n",
        "\n",
        "        applies_H = 'no H'\n",
        "        if self.does_bob_apply_H == 'yes':\n",
        "          applies_H = 'an H'\n",
        "\n",
        "        print('Error: Bob\\'s circuit for measuring with', applies_H, 'must be defined first.')\n",
        "        return\n",
        "\n",
        "      # Combine circuits and run simulation\n",
        "      bb84_circuit = alice_circuit + eve_circuit + bob_circuit\n",
        "      results = self.simulator.run(bb84_circuit)\n",
        "      self.bob_bit = results.measurements['q0'][0][0]\n",
        "\n",
        "      if self.eve_intercept:\n",
        "        self.eve_bit = results.measurements.get('eve', [[None]])[0][0]\n",
        "\n",
        "      # Print results\n",
        "      print('\\033[43m\\033[1mATTEMPTED BIT', self.bit_num, '\\033[0m\\033[0m')\n",
        "\n",
        "      print('\\n\\033[32m\\033[1mPHASE 1: SENDING\\033[0m\\033[0m\\033[0m')\n",
        "      print('\\033[47m\\033[1mAlice (to herself)\\033[0m\\033[0m: I sent a', self.alice_bit, 'and', 'did not use' if self.does_alice_apply_H == 'no' else 'used', 'an H')\n",
        "\n",
        "      if self.eve_intercept == 'yes':\n",
        "        print('EVE INTERCEPTS!')\n",
        "        print('\\033[47m\\033[1mEve (to herself)\\033[0m\\033[0m: I measured a', self.eve_bit, 'and will now send the qubit to Bob')\n",
        "\n",
        "      print('\\n\\033[32m\\033[1mPHASE 2: RECEIVING\\033[0m\\033[0m')\n",
        "      print('\\033[47m\\033[1mBob (to himself)\\033[0m\\033[0m: I', 'did not use' if self.does_bob_apply_H == 'no' else 'used', 'an H and measured a', self.bob_bit)\n",
        "\n",
        "      print('\\n\\033[32m\\033[1mPHASE 3: COMPARING\\033[0m\\033[0m')\n",
        "      print('Alice and Bob are comparing choice of H\\'s', 'and the bits themselves.' if compare_bits == 'yes' else 'but not the bits themselves.', '\\n')\n",
        "      print('\\033[47m\\033[1mAlice\\033[0m\\033[0m: I', 'did not use' if self.does_alice_apply_H == 'no' else 'used', 'an H')\n",
        "      print('\\033[47m\\033[1mBob\\033[0m\\033[0m: I', 'did not use' if self.does_bob_apply_H == 'no' else 'used', 'an H')\n",
        "\n",
        "      print('')\n",
        "      if compare_bits == 'yes':\n",
        "        print('\\033[47m\\033[1mAlice\\033[0m\\033[0m: I sent a', self.alice_bit)\n",
        "        print('\\033[47m\\033[1mBob\\033[0m\\033[0m: I measured a', self.bob_bit, '\\n')\n",
        "\n",
        "        if self.does_alice_apply_H == self.does_bob_apply_H:\n",
        "          if self.alice_bit == self.bob_bit:\n",
        "            print('\\033[47m\\033[1mAlice and Bob\\033[0m\\033[0m: Our bits match, so it doesn\\'t seem like Eve is intercepting.')\n",
        "\n",
        "            if self.eve_intercept == 'yes':\n",
        "              print('\\033[47m\\033[1mEve (to herself)\\033[0m\\033[0m: Mwuhaha, I\\'ve gone undetected.')\n",
        "\n",
        "          else:\n",
        "            print('\\033[91m\\033[1mAlice and Bob: Our bits are different, so Eve must have intercepted! Let\\'s start over with new keys and a new quantum channel!\\033[0m\\033[0m')\n",
        "            self.restart()\n",
        "\n",
        "        else:\n",
        "          print('\\033[47m\\033[1mAlice and Bob\\033[0m\\033[0m: We made different choices, we should not use this bit.')\n",
        "\n",
        "      else:\n",
        "        if self.does_alice_apply_H == self.does_bob_apply_H:\n",
        "          print('\\033[47m\\033[1mAlice and Bob\\033[0m\\033[0m: Great, let\\'s add this bit to our keys.')\n",
        "          self.alice_key += [self.alice_bit]\n",
        "          self.bob_key += [self.bob_bit]\n",
        "\n",
        "          if self.eve_intercept:\n",
        "            self.eve_key += [self.eve_bit]\n",
        "        else:\n",
        "          print('\\033[47m\\033[1mAlice and Bob\\033[0m\\033[0m: We made different choices, we should not use this bit.')\n",
        "\n",
        "      print('')\n",
        "      print('\\033[47m\\033[1mAlice (to herself)\\033[0m\\033[0m: My key is now', self.alice_key)\n",
        "      print('\\033[47m\\033[1mBob (to himself)\\033[0m\\033[0m: My key is now', self.bob_key)\n",
        "\n",
        "      if self.eve_intercept == 'yes':\n",
        "        print('\\033[47m\\033[1mEve (to herself)\\033[0m\\033[0m: My key is now:', self.eve_key)\n",
        "\n",
        "\n",
        "      print('\\nThe circuit used this round:', bb84_circuit)\n",
        "\n",
        "      self.bit_num += 1\n",
        "      print('='*75, end='\\n\\n')\n",
        "\n",
        "import matplotlib.pyplot as plt"
      ],
      "metadata": {
        "id": "SCwISwrvvDBp",
        "cellView": "form",
        "collapsed": true
      },
      "execution_count": null,
      "outputs": []
    },
    {
      "cell_type": "markdown",
      "source": [
        "<a name=\"p1\"></a>\n",
        "\n",
        "---\n",
        "## **Part 1: Cirq Review**\n",
        "---"
      ],
      "metadata": {
        "id": "RZ7qgIcLhjRq"
      }
    },
    {
      "cell_type": "markdown",
      "source": [
        "#### **Problem #1.1**\n",
        "\n",
        "Create and print a circuit that applies an H gate and a measurement to a single qubit."
      ],
      "metadata": {
        "id": "I2x0l8ghl2E2"
      }
    },
    {
      "cell_type": "code",
      "source": [
        "# Step 1: Define qubit(s)\n",
        "qubit = cirq.NamedQubit('q0')\n",
        "\n",
        "# Step 2: Define a quantum circuit\n",
        "circuit = cirq.Circuit()\n",
        "\n",
        "# Step 3: Append gates and measurements to the quantum circuit\n",
        "circuit.append(cirq.H(# COMPLETE THIS CODE\n",
        "circuit.append(# COMPLETE THIS CODE\n",
        "\n",
        "\n",
        "print(circuit)"
      ],
      "metadata": {
        "id": "SaUPIv4Ml2FD"
      },
      "execution_count": null,
      "outputs": []
    },
    {
      "cell_type": "markdown",
      "source": [
        "#### **Problem #1.2**\n",
        "\n",
        "Now, simulate the circuit from the problem above with 5 repetitions and print the results."
      ],
      "metadata": {
        "id": "lFQItjlxmeeP"
      }
    },
    {
      "cell_type": "code",
      "source": [
        "# Step 4: Run the circuit\n",
        "sim = cirq.Simulator()\n",
        "result = sim.run(circuit, repetitions = # COMPLETE THIS CODE\n",
        "\n",
        "print(result)"
      ],
      "metadata": {
        "id": "9dN6z5wwmeeb"
      },
      "execution_count": null,
      "outputs": []
    },
    {
      "cell_type": "markdown",
      "source": [
        "#### **Problem #1.3**\n",
        "\n",
        "Create and print a circuit that applies 3 H gates and a measurement to a single qubit.\n",
        "\n",
        "Then simulate this circuit with 5 repetitions and print the results."
      ],
      "metadata": {
        "id": "0qwusgw_mO5F"
      }
    },
    {
      "cell_type": "code",
      "source": [
        "# COMPLETE THIS CODE"
      ],
      "metadata": {
        "id": "5gyH-EcnmO5G"
      },
      "execution_count": null,
      "outputs": []
    },
    {
      "cell_type": "code",
      "source": [
        "# COMPLETE THIS CODE"
      ],
      "metadata": {
        "id": "1YgJ4ypamWqD"
      },
      "execution_count": null,
      "outputs": []
    },
    {
      "cell_type": "markdown",
      "source": [
        "#### **Problem #1.4**\n",
        "\n",
        "Create and print a circuit that applies 1 H gate and a measurement to a single qubit.\n",
        "\n",
        "Then simulate this circuit with 5 repetitions and print the results.\n",
        "\n",
        "Lastly, visualize the results with a histogram."
      ],
      "metadata": {
        "id": "cvkEWE5YnjDw"
      }
    },
    {
      "cell_type": "code",
      "source": [
        "# COMPLETE THIS CODE"
      ],
      "metadata": {
        "id": "kmV_4HMRnjDy"
      },
      "execution_count": null,
      "outputs": []
    },
    {
      "cell_type": "code",
      "source": [
        "# COMPLETE THIS CODE"
      ],
      "metadata": {
        "id": "u8GN6BrinjDy"
      },
      "execution_count": null,
      "outputs": []
    },
    {
      "cell_type": "code",
      "source": [
        "hist = cirq.plot_state_histogram(result, plt.subplot(), title = 'Qubit States', xlabel = 'States', ylabel = 'Occurrences')\n",
        "plt.show()"
      ],
      "metadata": {
        "id": "LQkw1VqfnoDo",
        "colab": {
          "base_uri": "https://localhost:8080/",
          "height": 472
        },
        "outputId": "a74d7f4b-a60d-49d2-d4c9-da2a1dd96d92"
      },
      "execution_count": null,
      "outputs": [
        {
          "output_type": "display_data",
          "data": {
            "text/plain": [
              "<Figure size 640x480 with 1 Axes>"
            ],
            "image/png": "[encoded data removed]"
          },
          "metadata": {}
        }
      ]
    },
    {
      "cell_type": "markdown",
      "source": [
        "#### **Problem #1.5**\n",
        "\n",
        "Create and print a circuit that applies 1 H gate, 1 X gate, another H gate, and a measurement to a single qubit.\n",
        "\n",
        "Then simulate this circuit with 100 repetitions and print the results.\n",
        "\n",
        "Lastly, visualize the results with a histogram."
      ],
      "metadata": {
        "id": "RbWVp079jgYH"
      }
    },
    {
      "cell_type": "code",
      "source": [
        "# COMPLETE THIS CODE"
      ],
      "metadata": {
        "id": "5UxmAhqnjgYP"
      },
      "execution_count": null,
      "outputs": []
    },
    {
      "cell_type": "code",
      "source": [
        "# COMPLETE THIS CODE"
      ],
      "metadata": {
        "id": "59JJVHFGjgYQ"
      },
      "execution_count": null,
      "outputs": []
    },
    {
      "cell_type": "code",
      "source": [
        "# COMPLETE THIS CODE"
      ],
      "metadata": {
        "id": "M_vIB9jxjgYQ"
      },
      "execution_count": null,
      "outputs": []
    },
    {
      "cell_type": "markdown",
      "source": [
        "<a name=\"p2\"></a>\n",
        "\n",
        "---\n",
        "## **Part 2: BB84 with Alice and Bob**\n",
        "---\n",
        "\n",
        "In this part, we will implement the BB84 protocol between Alice and Bob. We will see how to implement Eve's role next week."
      ],
      "metadata": {
        "id": "aQ4yOjOn3HXP"
      }
    },
    {
      "cell_type": "markdown",
      "source": [
        "#### **Problem #2.1**\n",
        "\n",
        "Let's start by creating a `BB84` object and ensuring the following attributes have been created:\n",
        "\n",
        "* `qubit`\n",
        "* `simulator`"
      ],
      "metadata": {
        "id": "GuvtCrsc3e09"
      }
    },
    {
      "cell_type": "code",
      "source": [
        "my_protocol = BB84()\n",
        "\n",
        "my_protocol.qubit = # COMPLETE THIS CODE\n",
        "my_protocol.simulator = # COMPLETE THIS CODE"
      ],
      "metadata": {
        "id": "jZhMMFmZ4SoS"
      },
      "execution_count": null,
      "outputs": []
    },
    {
      "cell_type": "markdown",
      "source": [
        "#### **Problem #2.2**\n",
        "\n",
        "Now, let's create a circuit that represents Alice encoding a 0 into a qubit and not applying an H gate.\n",
        "\n",
        "<br>\n",
        "\n",
        "This should be stored the `my_protocol.alice_send_0_no_H_circuit` attribute."
      ],
      "metadata": {
        "id": "ujN-wp854Xvd"
      }
    },
    {
      "cell_type": "code",
      "source": [
        "circuit = cirq.Circuit()\n",
        "\n",
        "# COMPLETE THIS CODE\n",
        "\n",
        "my_protocol.alice_send_0_no_H_circuit = circuit"
      ],
      "metadata": {
        "id": "CYt_7Obf4syk"
      },
      "execution_count": null,
      "outputs": []
    },
    {
      "cell_type": "markdown",
      "source": [
        "#### **Problem #2.3**\n",
        "\n",
        "Now, let's create a circuit that represents Bob not applying an H gate and then measuring.\n",
        "\n",
        "<br>\n",
        "\n",
        "This should be stored the `my_protocol.bob_receive_no_H_circuit` attribute."
      ],
      "metadata": {
        "id": "woQsjmnD4ycO"
      }
    },
    {
      "cell_type": "code",
      "source": [
        "# COMPLETE THIS CODE"
      ],
      "metadata": {
        "id": "y4vEvWHR48cp"
      },
      "execution_count": null,
      "outputs": []
    },
    {
      "cell_type": "markdown",
      "source": [
        "#### **Problem #2.4**\n",
        "\n",
        "Lastly, let's test our code out by using the `my_protocol.send_bit(...)` method. Make sure to provide the following parameters to use our code from above:\n",
        "\n",
        "* `alice_bit = 0`\n",
        "* `does_alice_apply_H = 'no'`\n",
        "* `does_bob_apply_H = 'no'`\n",
        "\n",
        "<br>\n",
        "\n",
        "**NOTE**: If everything has been coded correctly, you should see a \"script\" for this attempt to send a bit."
      ],
      "metadata": {
        "id": "NOyc8wWB4_X0"
      }
    },
    {
      "cell_type": "code",
      "source": [
        "my_protocol.send_bit(alice_bit=0, # COMPLETE THIS CODE"
      ],
      "metadata": {
        "id": "30sgmacN5TVh"
      },
      "execution_count": null,
      "outputs": []
    },
    {
      "cell_type": "markdown",
      "source": [
        "#### **Reflection**\n",
        "\n",
        "* Did Alice and Bob end up using this bit in their key and is it the same value (0 or 1)?\n",
        "\n",
        "* Will this always be the case provided Alice and Bob make the same choices. In other words, if you run the code again should you expect the same result every time?"
      ],
      "metadata": {
        "id": "mCVY6rXa6kM3"
      }
    },
    {
      "cell_type": "markdown",
      "source": [
        "#### **Problem #2.5**\n",
        "\n",
        "Confirm your reflection answers by sending another bit with the same criteria (0 and no H's) 3 more times."
      ],
      "metadata": {
        "id": "8d7wjS9u7hcT"
      }
    },
    {
      "cell_type": "code",
      "source": [
        "# COMPLETE THIS CODE"
      ],
      "metadata": {
        "id": "-bOccf5k7sPg"
      },
      "execution_count": null,
      "outputs": []
    },
    {
      "cell_type": "markdown",
      "source": [
        "#### **Problem #2.6**\n",
        "\n",
        "At this point, Alice and Bob should both have keys that are 4 bits long that they believe are the same. However, they have not compared any bits to check for an eavesdropper yet.\n",
        "\n",
        "<br>\n",
        "\n",
        "In the cell below, send another bit with the same criteria but also specifying that the parameter `compare_bits = 'yes'`."
      ],
      "metadata": {
        "id": "lxNnA4La78J0"
      }
    },
    {
      "cell_type": "code",
      "source": [
        "my_protocol.send_bit(alice_bit=0, does_alice_apply_H='no', does_bob_apply_H='no', compare_bits = 'yes')"
      ],
      "metadata": {
        "colab": {
          "base_uri": "https://localhost:8080/"
        },
        "id": "jRb2NLDh8ZPw",
        "outputId": "a498f826-580a-488d-fe3e-2dec766a007e"
      },
      "execution_count": null,
      "outputs": [
        {
          "output_type": "stream",
          "name": "stdout",
          "text": [
            "\u001b[43m\u001b[1mATTEMPTED BIT 5 \u001b[0m\u001b[0m\n",
            "\n",
            "\u001b[32m\u001b[1mPHASE 1: SENDING\u001b[0m\u001b[0m\u001b[0m\n",
            "\u001b[47m\u001b[1mAlice (to herself)\u001b[0m\u001b[0m: I sent a 0 and did not use an H\n",
            "\n",
            "\u001b[32m\u001b[1mPHASE 2: RECEIVING\u001b[0m\u001b[0m\n",
            "\u001b[47m\u001b[1mBob (to himself)\u001b[0m\u001b[0m: I did not use an H and measured a 0\n",
            "\n",
            "\u001b[32m\u001b[1mPHASE 3: COMPARING\u001b[0m\u001b[0m\n",
            "Alice and Bob are comparing choice of H's and the bits themselves. \n",
            "\n",
            "\u001b[47m\u001b[1mAlice\u001b[0m\u001b[0m: I did not use an H\n",
            "\u001b[47m\u001b[1mBob\u001b[0m\u001b[0m: I did not use an H\n",
            "\n",
            "\u001b[47m\u001b[1mAlice\u001b[0m\u001b[0m: I sent a 0\n",
            "\u001b[47m\u001b[1mBob\u001b[0m\u001b[0m: I measured a 0 \n",
            "\n",
            "\u001b[47m\u001b[1mAlice and Bob\u001b[0m\u001b[0m: Our bits match, so it doesn't seem like Eve is intercepting.\n",
            "\n",
            "\u001b[47m\u001b[1mAlice (to herself)\u001b[0m\u001b[0m: My key is now [0, 0, 0, 0]\n",
            "\u001b[47m\u001b[1mBob (to himself)\u001b[0m\u001b[0m: My key is now [0, 0, 0, 0]\n",
            "\n",
            "The circuit used this round: q0: ───I───I───I───M───\n",
            "===========================================================================\n",
            "\n"
          ]
        }
      ]
    },
    {
      "cell_type": "markdown",
      "source": [
        "#### **Reflection**\n",
        "\n",
        "* Did Alice and Bob detect an eavesdropper here? Should they have?\n",
        "\n",
        "* Did Alice and Bob add this bit to their keys? Should they have?"
      ],
      "metadata": {
        "id": "poVDZE249Ol6"
      }
    },
    {
      "cell_type": "markdown",
      "source": [
        "#### **Problem #2.7**\n",
        "\n",
        "Now, try sending a bit such that:\n",
        "* Alice sends a 1.\n",
        "* Alice and Bob both do not use an H.\n",
        "* They do not compare bits."
      ],
      "metadata": {
        "id": "0VNVAm9M-P39"
      }
    },
    {
      "cell_type": "code",
      "source": [
        "# COMPLETE THIS CODE"
      ],
      "metadata": {
        "id": "jGS-bzoi-eo-"
      },
      "execution_count": null,
      "outputs": []
    },
    {
      "cell_type": "markdown",
      "source": [
        "#### **Problem #2.8**\n",
        "\n",
        "You should have run into an error. In the space below, fix this error and try sending the bit again."
      ],
      "metadata": {
        "id": "KPo7nkMX-rea"
      }
    },
    {
      "cell_type": "code",
      "source": [
        "# COMPLETE THIS CODE"
      ],
      "metadata": {
        "id": "7JOGvO57-zZ_"
      },
      "execution_count": null,
      "outputs": []
    },
    {
      "cell_type": "code",
      "source": [
        "# COMPLETE THIS CODE"
      ],
      "metadata": {
        "id": "JGqQFXER-3GV"
      },
      "execution_count": null,
      "outputs": []
    },
    {
      "cell_type": "markdown",
      "source": [
        "#### **Problem #2.9**\n",
        "\n",
        "In the space below, define the remaining attributes:\n",
        "\n",
        "* `alice_send_0_H_circuit`\n",
        "* `alice_send_1_H_circuit`\n",
        "* `bob_receive_H_circuit`"
      ],
      "metadata": {
        "id": "8Wt_cODn--TB"
      }
    },
    {
      "cell_type": "code",
      "source": [
        "# COMPLETE THIS CODE"
      ],
      "metadata": {
        "id": "RoF50uy__vje"
      },
      "execution_count": null,
      "outputs": []
    },
    {
      "cell_type": "code",
      "source": [
        "# COMPLETE THIS CODE"
      ],
      "metadata": {
        "id": "PRGz1Vxe_zEU"
      },
      "execution_count": null,
      "outputs": []
    },
    {
      "cell_type": "code",
      "source": [
        "# COMPLETE THIS CODE"
      ],
      "metadata": {
        "id": "x5s6Z1dk_y6g"
      },
      "execution_count": null,
      "outputs": []
    },
    {
      "cell_type": "markdown",
      "source": [
        "#### **Problem #2.10**\n",
        "\n",
        "Now, perform the following transmissions (in this order):\n",
        "\n",
        "* Alice sends a 0 with an H gate and Bob does not use an H gate.\n",
        "* Alice sends a 1 with an H gate and Bob does not use an H gate.\n",
        "* Alice sends a 1 with an H gate and Bob does use an H gate.\n",
        "\n",
        "<br>\n",
        "\n",
        "**NOTE**: To ensure either Alice or Bob uses an H gate, you can set the corresponding parameter to `'yes'` instead of `'no'`."
      ],
      "metadata": {
        "id": "ObiGWrK9_Ow7"
      }
    },
    {
      "cell_type": "code",
      "source": [
        "# COMPLETE THIS CODE"
      ],
      "metadata": {
        "id": "4UEpdzyl_loa"
      },
      "execution_count": null,
      "outputs": []
    },
    {
      "cell_type": "markdown",
      "source": [
        "<a name=\"p3\"></a>\n",
        "\n",
        "---\n",
        "## **Part 3: Homework**\n",
        "---\n",
        "\n",
        "Make sure you run the hidden code cell at the very top of the notebook to load the BB84 class definition."
      ],
      "metadata": {
        "id": "Ngjt5evgSutm"
      }
    },
    {
      "cell_type": "markdown",
      "source": [
        "#### **Problem #3.1**\n",
        "\n",
        "To start, define a `BB84` object and modify all the circuit attributes to use the correct attributes. In other words, copy your answers from above into the space below."
      ],
      "metadata": {
        "id": "CuZ7t9EfZxer"
      }
    },
    {
      "cell_type": "code",
      "source": [
        "# Create the BB84 object\n",
        "#=======================\n",
        "my_protocol = # COMPLETE THIS CODE\n",
        "\n",
        "my_protocol.qubit = # COMPLETE THIS CODE\n",
        "my_protocol.simulator = # COMPLETE THIS CODE\n",
        "\n",
        "\n",
        "# Alice Sending\n",
        "#===============\n",
        "\n",
        "# 0 without H\n",
        "circuit = # COMPLETE THIS CODE\n",
        "\n",
        "circuit.append(# COMPLETE THIS CODE\n",
        "circuit.append(# COMPLETE THIS CODE\n",
        "\n",
        "my_protocol.alice_send_0_no_H_circuit = # COMPLETE THIS CODE\n",
        "\n",
        "\n",
        "# 0 with H\n",
        "# COMPLETE THIS CODE\n",
        "\n",
        "\n",
        "# 1 without H\n",
        "# COMPLETE THIS CODE\n",
        "\n",
        "# 1 with H\n",
        "# COMPLETE THIS CODE\n",
        "\n",
        "\n",
        "\n",
        "# Bob Receiving\n",
        "#===============\n",
        "\n",
        "# without H\n",
        "# COMPLETE THIS CODE\n",
        "\n",
        "\n",
        "# with H\n",
        "# COMPLETE THIS CODE"
      ],
      "metadata": {
        "id": "w0CMb2haadCw"
      },
      "execution_count": null,
      "outputs": []
    },
    {
      "cell_type": "markdown",
      "source": [
        "#### **Problem #3.2**\n",
        "\n",
        "Using the `my_protocol` object that you created in the cell above, perform the following transmissions:\n",
        "\n",
        "* Alice sends a 0 using an H gate, Bob receives without an H gate.\n",
        "* Alice sends a 1 without using an H gate, Bob receives without an H gate.\n",
        "* Alice sends a 1 using an H gate, Bob receives using an H gate.\n",
        "* Alice sends a 0 using an H gate, Bob receives without an H gate.\n",
        "* Alice sends a 1 without using an H gate, Bob receives using an H gate.\n",
        "* Alice sends a 0 without using an H gate, Bob receives without an H gate."
      ],
      "metadata": {
        "id": "aFlaqvWITWA-"
      }
    },
    {
      "cell_type": "code",
      "source": [
        "my_protocol.# COMPLETE THIS CODE"
      ],
      "metadata": {
        "id": "rmscRaNvUuWa"
      },
      "execution_count": null,
      "outputs": []
    },
    {
      "cell_type": "markdown",
      "source": [
        "#### **Problem #3.3**\n",
        "\n",
        "In the space below, we send transmissions such that Alice's and Bob's choices of using an H gate are actually random (using [python's `random.choice(...)` method](https://www.w3schools.com/python/ref_random_choice.asp) if you are curious).\n",
        "\n",
        "<br>\n",
        "\n",
        "In #10 of this week's multiple choice question set, answer the following question: **What is the *least* and *most* number of bits that Alice and Bob might use in the end?**"
      ],
      "metadata": {
        "id": "XKD868bPVeyX"
      }
    },
    {
      "cell_type": "code",
      "source": [
        "import random\n",
        "\n",
        "my_protocol.restart()\n",
        "\n",
        "my_protocol.send_bit(alice_bit=0, does_alice_apply_H=random.choice(['yes', 'no']), does_bob_apply_H=random.choice(['yes', 'no']))\n",
        "my_protocol.send_bit(alice_bit=0, does_alice_apply_H=random.choice(['yes', 'no']), does_bob_apply_H=random.choice(['yes', 'no']))\n",
        "my_protocol.send_bit(alice_bit=0, does_alice_apply_H=random.choice(['yes', 'no']), does_bob_apply_H=random.choice(['yes', 'no']))\n",
        "my_protocol.send_bit(alice_bit=0, does_alice_apply_H=random.choice(['yes', 'no']), does_bob_apply_H=random.choice(['yes', 'no']))\n",
        "my_protocol.send_bit(alice_bit=0, does_alice_apply_H=random.choice(['yes', 'no']), does_bob_apply_H=random.choice(['yes', 'no']))"
      ],
      "metadata": {
        "colab": {
          "base_uri": "https://localhost:8080/"
        },
        "outputId": "db58daab-72b1-402b-8d8c-4e71eb4cc7e7",
        "id": "BryAdWG5Veya"
      },
      "execution_count": null,
      "outputs": [
        {
          "output_type": "stream",
          "name": "stdout",
          "text": [
            "\u001b[43m\u001b[1mATTEMPTED BIT 1 \u001b[0m\u001b[0m\n",
            "\n",
            "\u001b[32m\u001b[1mPHASE 1: SENDING\u001b[0m\u001b[0m\u001b[0m\n",
            "\u001b[47m\u001b[1mAlice (to herself)\u001b[0m\u001b[0m: I sent a 0 and did not use an H\n",
            "\n",
            "\u001b[32m\u001b[1mPHASE 2: RECEIVING\u001b[0m\u001b[0m\n",
            "\u001b[47m\u001b[1mBob (to himself)\u001b[0m\u001b[0m: I did not use an H and measured a 0\n",
            "\n",
            "\u001b[32m\u001b[1mPHASE 3: COMPARING\u001b[0m\u001b[0m\n",
            "Alice and Bob are comparing choice of H's but not the bits themselves. \n",
            "\n",
            "\u001b[47m\u001b[1mAlice\u001b[0m\u001b[0m: I did not use an H\n",
            "\u001b[47m\u001b[1mBob\u001b[0m\u001b[0m: I did not use an H\n",
            "\n",
            "\u001b[47m\u001b[1mAlice and Bob\u001b[0m\u001b[0m: Great, let's add this bit to our keys.\n",
            "\n",
            "\u001b[47m\u001b[1mAlice (to herself)\u001b[0m\u001b[0m: My key is now [0]\n",
            "\u001b[47m\u001b[1mBob (to himself)\u001b[0m\u001b[0m: My key is now [0]\n",
            "\n",
            "The circuit used this round: q0: ───I───I───I───M───\n",
            "===========================================================================\n",
            "\n",
            "\u001b[43m\u001b[1mATTEMPTED BIT 2 \u001b[0m\u001b[0m\n",
            "\n",
            "\u001b[32m\u001b[1mPHASE 1: SENDING\u001b[0m\u001b[0m\u001b[0m\n",
            "\u001b[47m\u001b[1mAlice (to herself)\u001b[0m\u001b[0m: I sent a 0 and used an H\n",
            "\n",
            "\u001b[32m\u001b[1mPHASE 2: RECEIVING\u001b[0m\u001b[0m\n",
            "\u001b[47m\u001b[1mBob (to himself)\u001b[0m\u001b[0m: I did not use an H and measured a 0\n",
            "\n",
            "\u001b[32m\u001b[1mPHASE 3: COMPARING\u001b[0m\u001b[0m\n",
            "Alice and Bob are comparing choice of H's but not the bits themselves. \n",
            "\n",
            "\u001b[47m\u001b[1mAlice\u001b[0m\u001b[0m: I used an H\n",
            "\u001b[47m\u001b[1mBob\u001b[0m\u001b[0m: I did not use an H\n",
            "\n",
            "\u001b[47m\u001b[1mAlice and Bob\u001b[0m\u001b[0m: We made different choices, we should not use this bit.\n",
            "\n",
            "\u001b[47m\u001b[1mAlice (to herself)\u001b[0m\u001b[0m: My key is now [0]\n",
            "\u001b[47m\u001b[1mBob (to himself)\u001b[0m\u001b[0m: My key is now [0]\n",
            "\n",
            "The circuit used this round: q0: ───I───H───I───M───\n",
            "===========================================================================\n",
            "\n",
            "\u001b[43m\u001b[1mATTEMPTED BIT 3 \u001b[0m\u001b[0m\n",
            "\n",
            "\u001b[32m\u001b[1mPHASE 1: SENDING\u001b[0m\u001b[0m\u001b[0m\n",
            "\u001b[47m\u001b[1mAlice (to herself)\u001b[0m\u001b[0m: I sent a 0 and used an H\n",
            "\n",
            "\u001b[32m\u001b[1mPHASE 2: RECEIVING\u001b[0m\u001b[0m\n",
            "\u001b[47m\u001b[1mBob (to himself)\u001b[0m\u001b[0m: I did not use an H and measured a 0\n",
            "\n",
            "\u001b[32m\u001b[1mPHASE 3: COMPARING\u001b[0m\u001b[0m\n",
            "Alice and Bob are comparing choice of H's but not the bits themselves. \n",
            "\n",
            "\u001b[47m\u001b[1mAlice\u001b[0m\u001b[0m: I used an H\n",
            "\u001b[47m\u001b[1mBob\u001b[0m\u001b[0m: I did not use an H\n",
            "\n",
            "\u001b[47m\u001b[1mAlice and Bob\u001b[0m\u001b[0m: We made different choices, we should not use this bit.\n",
            "\n",
            "\u001b[47m\u001b[1mAlice (to herself)\u001b[0m\u001b[0m: My key is now [0]\n",
            "\u001b[47m\u001b[1mBob (to himself)\u001b[0m\u001b[0m: My key is now [0]\n",
            "\n",
            "The circuit used this round: q0: ───I───H───I───M───\n",
            "===========================================================================\n",
            "\n",
            "\u001b[43m\u001b[1mATTEMPTED BIT 4 \u001b[0m\u001b[0m\n",
            "\n",
            "\u001b[32m\u001b[1mPHASE 1: SENDING\u001b[0m\u001b[0m\u001b[0m\n",
            "\u001b[47m\u001b[1mAlice (to herself)\u001b[0m\u001b[0m: I sent a 0 and did not use an H\n",
            "\n",
            "\u001b[32m\u001b[1mPHASE 2: RECEIVING\u001b[0m\u001b[0m\n",
            "\u001b[47m\u001b[1mBob (to himself)\u001b[0m\u001b[0m: I did not use an H and measured a 0\n",
            "\n",
            "\u001b[32m\u001b[1mPHASE 3: COMPARING\u001b[0m\u001b[0m\n",
            "Alice and Bob are comparing choice of H's but not the bits themselves. \n",
            "\n",
            "\u001b[47m\u001b[1mAlice\u001b[0m\u001b[0m: I did not use an H\n",
            "\u001b[47m\u001b[1mBob\u001b[0m\u001b[0m: I did not use an H\n",
            "\n",
            "\u001b[47m\u001b[1mAlice and Bob\u001b[0m\u001b[0m: Great, let's add this bit to our keys.\n",
            "\n",
            "\u001b[47m\u001b[1mAlice (to herself)\u001b[0m\u001b[0m: My key is now [0, 0]\n",
            "\u001b[47m\u001b[1mBob (to himself)\u001b[0m\u001b[0m: My key is now [0, 0]\n",
            "\n",
            "The circuit used this round: q0: ───I───I───I───M───\n",
            "===========================================================================\n",
            "\n",
            "\u001b[43m\u001b[1mATTEMPTED BIT 5 \u001b[0m\u001b[0m\n",
            "\n",
            "\u001b[32m\u001b[1mPHASE 1: SENDING\u001b[0m\u001b[0m\u001b[0m\n",
            "\u001b[47m\u001b[1mAlice (to herself)\u001b[0m\u001b[0m: I sent a 0 and did not use an H\n",
            "\n",
            "\u001b[32m\u001b[1mPHASE 2: RECEIVING\u001b[0m\u001b[0m\n",
            "\u001b[47m\u001b[1mBob (to himself)\u001b[0m\u001b[0m: I used an H and measured a 0\n",
            "\n",
            "\u001b[32m\u001b[1mPHASE 3: COMPARING\u001b[0m\u001b[0m\n",
            "Alice and Bob are comparing choice of H's but not the bits themselves. \n",
            "\n",
            "\u001b[47m\u001b[1mAlice\u001b[0m\u001b[0m: I did not use an H\n",
            "\u001b[47m\u001b[1mBob\u001b[0m\u001b[0m: I used an H\n",
            "\n",
            "\u001b[47m\u001b[1mAlice and Bob\u001b[0m\u001b[0m: We made different choices, we should not use this bit.\n",
            "\n",
            "\u001b[47m\u001b[1mAlice (to herself)\u001b[0m\u001b[0m: My key is now [0, 0]\n",
            "\u001b[47m\u001b[1mBob (to himself)\u001b[0m\u001b[0m: My key is now [0, 0]\n",
            "\n",
            "The circuit used this round: q0: ───I───I───H───M───\n",
            "===========================================================================\n",
            "\n"
          ]
        }
      ]
    },
    {
      "cell_type": "markdown",
      "metadata": {
        "id": "7dzC09dLlEhm"
      },
      "source": [
        "# End of Notebook\n",
        "\n",
        "---\n",
        "© 2024 The Coding School, All rights reserved"
      ]
    }
  ]
}