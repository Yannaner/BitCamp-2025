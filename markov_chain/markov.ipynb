{
 "cells": [
  {
   "cell_type": "markdown",
   "id": "6ae89f9f",
   "metadata": {},
   "source": [
    "# Markov Chain / Quantumn Walk for Bike Simulation\n",
    "\n",
    "Trial code. -Safa"
   ]
  },
  {
   "cell_type": "code",
   "execution_count": 38,
   "id": "f42954a5",
   "metadata": {},
   "outputs": [
    {
     "name": "stdout",
     "output_type": "stream",
     "text": [
      "Libraries Imported Successfully!\n"
     ]
    }
   ],
   "source": [
    "import warnings\n",
    "warnings.filterwarnings(\"ignore\")\n",
    "\n",
    "try:\n",
    "    import cirq\n",
    "except ImportError:\n",
    "    print(\"installing cirq...\")\n",
    "    !pip install cirq --quiet\n",
    "    import cirq\n",
    "    print(\"installed cirq.\")\n",
    "\n",
    "import cirq_web\n",
    "import matplotlib.pyplot as plt\n",
    "import numpy as np\n",
    "from collections import Counter\n",
    "\n",
    "print(\"Libraries Imported Successfully!\")"
   ]
  },
  {
   "cell_type": "code",
   "execution_count": null,
   "id": "3fe902b3",
   "metadata": {},
   "outputs": [
    {
     "name": "stdout",
     "output_type": "stream",
     "text": [
      "0: ───H───@───X───@───X───────────────M('coin')───\n",
      "          │       │\n",
      "1: ───I───┼───────X───M('position')───────────────\n",
      "          │           │\n",
      "2: ───I───X───────────M───────────────────────────\n"
     ]
    }
   ],
   "source": [
    "# Define qubits\n",
    "coin = cirq.LineQubit(0)        # 1 qubit for the coin\n",
    "position = [cirq.LineQubit(1), cirq.LineQubit(2)]  # 2 qubits for position (3 stations)\n",
    "\n",
    "# Create circuit\n",
    "circuit = cirq.Circuit()\n",
    "\n",
    "# Initialize position to station A (|00>)\n",
    "circuit.append(cirq.ops.I(position[0]))\n",
    "circuit.append(cirq.ops.I(position[1]))\n",
    "\n",
    "# Apply Hadamard to create superposition in the coin\n",
    "circuit.append(cirq.H(coin)) \n",
    "\n",
    "# TODO: Add cirq.KrausChannel for real world noise. \n",
    "\n",
    "# Define coin-controlled shift\n",
    "def shift_operator():\n",
    "    # This will conditionally increment or decrement position\n",
    "    ops = []\n",
    "\n",
    "    # If coin is |0> (move left), decrement station (00 -> 10, 01 -> 00, 10 -> 01)\n",
    "    ops += [\n",
    "        cirq.CNOT(coin, position[1]),  # simple mock logic for decrement\n",
    "    ]\n",
    "    # If coin is |1> (move right), increment station\n",
    "    ops += [\n",
    "        cirq.X(coin),\n",
    "        cirq.CNOT(coin, position[0]),\n",
    "        cirq.X(coin)\n",
    "    ]\n",
    "\n",
    "    return ops\n",
    "\n",
    "# Add shift operator\n",
    "circuit.append(shift_operator())\n",
    "\n",
    "# Measure\n",
    "circuit.append(cirq.measure(coin, key='coin'))\n",
    "circuit.append(cirq.measure(*position, key='position'))\n",
    "\n",
    "print(circuit)"
   ]
  },
  {
   "cell_type": "code",
   "execution_count": 45,
   "id": "fe83c180",
   "metadata": {},
   "outputs": [
    {
     "data": {
      "image/png": "[encoded data removed]",
      "text/plain": [
       "<Figure size 640x480 with 1 Axes>"
      ]
     },
     "metadata": {},
     "output_type": "display_data"
    },
    {
     "name": "stdout",
     "output_type": "stream",
     "text": [
      "\n"
     ]
    }
   ],
   "source": [
    "# Plot and simulation\n",
    "\n",
    "simulator = cirq.Simulator()\n",
    "result = simulator.run(circuit, repetitions=100)\n",
    "\n",
    "hist = cirq.plot_state_histogram(result, plt.subplot(), title = 'Qubit States', xlabel = 'States', ylabel = 'Occurrences')\n",
    "\n",
    "plt.show()\n",
    "\n",
    "result_counts = Counter(result.measurements['position'].astype(str).flatten())\n",
    "print()\n"
   ]
  },
  {
   "cell_type": "code",
   "execution_count": 47,
   "id": "719d2afc",
   "metadata": {},
   "outputs": [
    {
     "ename": "KeyError",
     "evalue": "np.str_('0')",
     "output_type": "error",
     "traceback": [
      "\u001b[31m---------------------------------------------------------------------------\u001b[39m",
      "\u001b[31mKeyError\u001b[39m                                  Traceback (most recent call last)",
      "\u001b[36mCell\u001b[39m\u001b[36m \u001b[39m\u001b[32mIn[47]\u001b[39m\u001b[32m, line 50\u001b[39m\n\u001b[32m     48\u001b[39m \u001b[38;5;66;03m# Map bits to station names\u001b[39;00m\n\u001b[32m     49\u001b[39m station_labels = {\u001b[33m'\u001b[39m\u001b[33m00\u001b[39m\u001b[33m'\u001b[39m: \u001b[33m'\u001b[39m\u001b[33mA\u001b[39m\u001b[33m'\u001b[39m, \u001b[33m'\u001b[39m\u001b[33m01\u001b[39m\u001b[33m'\u001b[39m: \u001b[33m'\u001b[39m\u001b[33mB\u001b[39m\u001b[33m'\u001b[39m, \u001b[33m'\u001b[39m\u001b[33m10\u001b[39m\u001b[33m'\u001b[39m: \u001b[33m'\u001b[39m\u001b[33mC\u001b[39m\u001b[33m'\u001b[39m, \u001b[33m'\u001b[39m\u001b[33m11\u001b[39m\u001b[33m'\u001b[39m: \u001b[33m'\u001b[39m\u001b[33mD\u001b[39m\u001b[33m'\u001b[39m}\n\u001b[32m---> \u001b[39m\u001b[32m50\u001b[39m readable = {\u001b[43mstation_labels\u001b[49m\u001b[43m[\u001b[49m\u001b[43mk\u001b[49m\u001b[43m]\u001b[49m: v \u001b[38;5;28;01mfor\u001b[39;00m k, v \u001b[38;5;129;01min\u001b[39;00m result_counts.items()}\n\u001b[32m     52\u001b[39m \u001b[38;5;28mprint\u001b[39m(\u001b[33m\"\u001b[39m\u001b[33mBike position distribution after 1 step:\u001b[39m\u001b[33m\"\u001b[39m)\n\u001b[32m     53\u001b[39m \u001b[38;5;28;01mfor\u001b[39;00m s, c \u001b[38;5;129;01min\u001b[39;00m readable.items():\n",
      "\u001b[31mKeyError\u001b[39m: np.str_('0')"
     ]
    },
    {
     "data": {
      "image/png": "[encoded data removed]",
      "text/plain": [
       "<Figure size 640x480 with 1 Axes>"
      ]
     },
     "metadata": {},
     "output_type": "display_data"
    }
   ],
   "source": [
    "import cirq\n",
    "import numpy as np\n",
    "\n",
    "# 2 qubits to represent 4 stations\n",
    "station = [cirq.LineQubit(0), cirq.LineQubit(1)]\n",
    "\n",
    "# Define your transition matrix\n",
    "P = np.array([\n",
    "    [0.1, 0.6, 0.2, 0.1],\n",
    "    [0.4, 0.1, 0.3, 0.2],\n",
    "    [0.3, 0.2, 0.2, 0.3],\n",
    "    [0.2, 0.2, 0.5, 0.1]\n",
    "])\n",
    "\n",
    "# Convert P into 4 Kraus operators\n",
    "def build_kraus_ops(P):\n",
    "    num_states = P.shape[0]\n",
    "    ops = []\n",
    "    for j in range(num_states):\n",
    "        K = np.zeros((num_states, num_states))\n",
    "        for i in range(num_states):\n",
    "            K[j, i] = np.sqrt(P[i, j])  # note: transposed for correct direction\n",
    "        ops.append(K)\n",
    "    return ops\n",
    "\n",
    "kraus_ops = build_kraus_ops(P)\n",
    "\n",
    "# Wrap them as Cirq KrausChannel\n",
    "kraus_channel = cirq.KrausChannel(kraus_ops)\n",
    "\n",
    "# Build circuit\n",
    "circuit = cirq.Circuit()\n",
    "\n",
    "# Initialize in station A: |00⟩\n",
    "circuit.append([cirq.I(station[0]), cirq.I(station[1])])\n",
    "\n",
    "# Apply the channel\n",
    "circuit.append(kraus_channel.on(*station))\n",
    "\n",
    "# Measure\n",
    "circuit.append(cirq.measure(*station, key='position'))\n",
    "\n",
    "# Simulate\n",
    "sim = cirq.DensityMatrixSimulator()\n",
    "result = sim.run(circuit, repetitions=1000)\n",
    "hist = cirq.plot_state_histogram(result, plt.subplot(), title = 'Qubit States', xlabel = 'States', ylabel = 'Occurrences')\n",
    "\n",
    "# Map bits to station names\n",
    "station_labels = {'00': 'A', '01': 'B', '10': 'C', '11': 'D'}\n",
    "readable = {station_labels[k]: v for k, v in result_counts.items()}\n",
    "\n",
    "print(\"Bike position distribution after 1 step:\")\n",
    "for s, c in readable.items():\n",
    "    print(f\"Station {s}: {c} bikes\")\n"
   ]
  }
 ],
 "metadata": {
  "kernelspec": {
   "display_name": "Python 3",
   "language": "python",
   "name": "python3"
  },
  "language_info": {
   "codemirror_mode": {
    "name": "ipython",
    "version": 3
   },
   "file_extension": ".py",
   "mimetype": "text/x-python",
   "name": "python",
   "nbconvert_exporter": "python",
   "pygments_lexer": "ipython3",
   "version": "3.13.1"
  }
 },
 "nbformat": 4,
 "nbformat_minor": 5
}
